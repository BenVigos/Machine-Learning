{
 "cells": [
  {
   "cell_type": "markdown",
   "metadata": {
    "user_expressions": []
   },
   "source": [
    "# Large Notebook 3: Reinfocement Learning\n",
    "## Ex. 3: Control problem MountainCar-v0\n",
    "\n",
    "In the exercise class we will cover the control problem of a car at the bottom of a valley which should pick-up enough momentum to get over the hill. We will use the environment from the OpenAI Gym, which allows you to play and visualize the 'game'. Use RL to train a policy that gets the car over the hill in the least amount of time. \n",
    "\n",
    "**Before you can start this exercise you have to install the package OpenAI Gym. Start your anaconda environment with python3 and install:**\n",
    "\n",
    "* pip install gymnasium[classic-control]\n"
   ]
  },
  {
   "cell_type": "code",
   "execution_count": 1,
   "metadata": {
    "ExecuteTime": {
     "end_time": "2025-03-04T20:38:10.989941500Z",
     "start_time": "2025-03-04T20:38:09.909565900Z"
    }
   },
   "outputs": [
    {
     "name": "stdout",
     "output_type": "stream",
     "text": [
      "Requirement already satisfied: gymnasium[classic-control] in c:\\users\\konstantinos\\appdata\\local\\programs\\python\\python311\\lib\\site-packages (1.1.0)\n",
      "Requirement already satisfied: numpy>=1.21.0 in c:\\users\\konstantinos\\appdata\\local\\programs\\python\\python311\\lib\\site-packages (from gymnasium[classic-control]) (2.2.2)\n",
      "Requirement already satisfied: cloudpickle>=1.2.0 in c:\\users\\konstantinos\\appdata\\local\\programs\\python\\python311\\lib\\site-packages (from gymnasium[classic-control]) (3.1.1)\n",
      "Requirement already satisfied: typing-extensions>=4.3.0 in c:\\users\\konstantinos\\appdata\\local\\programs\\python\\python311\\lib\\site-packages (from gymnasium[classic-control]) (4.12.2)\n",
      "Requirement already satisfied: farama-notifications>=0.0.1 in c:\\users\\konstantinos\\appdata\\local\\programs\\python\\python311\\lib\\site-packages (from gymnasium[classic-control]) (0.0.4)\n",
      "Requirement already satisfied: pygame>=2.1.3 in c:\\users\\konstantinos\\appdata\\local\\programs\\python\\python311\\lib\\site-packages (from gymnasium[classic-control]) (2.6.1)\n",
      "Note: you may need to restart the kernel to use updated packages.\n"
     ]
    },
    {
     "name": "stderr",
     "output_type": "stream",
     "text": [
      "\n",
      "[notice] A new release of pip is available: 25.0 -> 25.0.1\n",
      "[notice] To update, run: C:\\Users\\Konstantinos\\AppData\\Local\\Programs\\Python\\Python311\\python.exe -m pip install --upgrade pip\n"
     ]
    }
   ],
   "source": [
    "# UNCOMMENT IF GYMNASIUM FAILS TO IMPORT\n",
    "%pip install gymnasium[classic-control]\n",
    "\n",
    "import gymnasium as gym\n",
    "import numpy as np\n",
    "import matplotlib.pyplot as plt"
   ]
  },
  {
   "cell_type": "markdown",
   "metadata": {},
   "source": [
    "If you have properly installed the openAI gym you should be able to import it. We will now run a DEMO to see if everything is working. The code already is able to simulate the MountainCar problem for the case that it actions are **random**. To be able to view the rendered video of the poor and helpless car, desperately trying to drive up the hill, you should run the code on your own computer.\n",
    "For more info on this particular environment see e.g. the website: https://gymnasium.farama.org/environments/classic_control/mountain_car/\n",
    "\n"
   ]
  },
  {
   "cell_type": "code",
   "execution_count": 2,
   "metadata": {
    "ExecuteTime": {
     "end_time": "2025-03-04T20:38:25.591442900Z",
     "start_time": "2025-03-04T20:38:10.982941500Z"
    }
   },
   "outputs": [],
   "source": [
    "def demo():\n",
    "    \"\"\"run the MountainCar environment with random actions\"\"\"\n",
    "    \n",
    "    env = gym.make('MountainCar-v0', render_mode='human')  #  create an instance of the environment\n",
    "\n",
    "    state = env.reset()  # reset the current game\n",
    "\n",
    "    for _ in range(200):  # play 200 random actions\n",
    "        env.render()  # render the current game state to screen\n",
    "        a = env.action_space.sample()  # get a random action\n",
    "        state, reward, terminated, truncated, info = env.step(a) # take the action and return the outcome\n",
    "        \n",
    "    env.close()\n",
    "    \n",
    "# run the demo\n",
    "demo() "
   ]
  },
  {
   "cell_type": "markdown",
   "metadata": {},
   "source": [
    "## Building your RL player, ie. training your policy.\n",
    "We have to start by creating the game environment and checking some properties of the state and action space:"
   ]
  },
  {
   "cell_type": "code",
   "execution_count": 3,
   "outputs": [
    {
     "name": "stdout",
     "output_type": "stream",
     "text": [
      "start state: (array([-0.40802196,  0.        ], dtype=float32), {})\n",
      "Number of sctions in the action space: 3\n",
      "Lowest state in the state space: [-1.2  -0.07]\n",
      "Hightest state in the state space: [0.6  0.07]\n",
      "After the step with (a=1): [-0.40887153 -0.00084956] -1.0 False False {}\n"
     ]
    }
   ],
   "source": [
    "env = gym.make('MountainCar-v0')  # no rendering!\n",
    "\n",
    "# get usefull information about the environment:\n",
    "state = env.reset()\n",
    "print('start state:', state)\n",
    "print('Number of sctions in the action space:', env.action_space.n)\n",
    "print('Lowest state in the state space:', env.observation_space.low)\n",
    "print('Hightest state in the state space:', env.observation_space.high)\n",
    "\n",
    "#perform one step of the game for action a=1\n",
    "a=1\n",
    "state, reward, terminated, truncated, info = env.step(a)\n",
    "print('After the step with (a=1):',state, reward, terminated, truncated, info )\n"
   ],
   "metadata": {
    "collapsed": false,
    "ExecuteTime": {
     "end_time": "2025-03-04T20:38:25.597617900Z",
     "start_time": "2025-03-04T20:38:25.592456800Z"
    }
   }
  },
  {
   "cell_type": "markdown",
   "metadata": {},
   "source": [
    "We see that the car starts out in state with two floats [-0.525, 0] (as it initializes random these numbers will differ each time you reset). You can perform any of 3 actions (a = 0 or 1 or 2). We don't know what the numbers in the state mean, they could be the $x$, $y$ coordinates of the car or the velocity and height, but **we also don't have to know!** We will let the RL algortithm learn how to drive the car regardless of the exact meaning of the state.\n",
    "\n",
    "You should now code a function `s2q(s)` that links state `s` to a location in the Q-matrix. This can quickly be done by discretizing the state space into bins and determine the bin number corresponding to a certain value. The function should return a tuple (or list) `loc` that holds the two bin numbers."
   ]
  },
  {
   "cell_type": "code",
   "execution_count": 4,
   "metadata": {
    "ExecuteTime": {
     "end_time": "2025-03-04T20:38:25.603946200Z",
     "start_time": "2025-03-04T20:38:25.598607100Z"
    }
   },
   "outputs": [
    {
     "data": {
      "text/plain": "[np.int64(8), np.int64(9)]"
     },
     "execution_count": 4,
     "metadata": {},
     "output_type": "execute_result"
    }
   ],
   "source": [
    "def s2q(s, nbins1 = 20, nbins2 = 20):\n",
    "    # convert continous state values to discrete location indices inside the Q matrix\n",
    "    \n",
    "    low = env.observation_space.low\n",
    "    high = env.observation_space.high\n",
    "    bins = (nbins1,nbins2)\n",
    "    \n",
    "    bin_sizes = [(high[i] - low[i]) / bins[i] for i in range(len(s))]\n",
    "    \n",
    "    # Compute bin index for each dimension\n",
    "    loc = [np.int_((s[i] - low[i]) / bin_sizes[i]) for i in range(len(s))]\n",
    "    \n",
    "    # Clip values to stay within valid range\n",
    "    loc = [np.clip(loc[i], 0, bins[i] - 1) for i in range(len(s))]\n",
    "\n",
    "    return loc\n",
    "\n",
    "s2q(state)"
   ]
  },
  {
   "cell_type": "markdown",
   "metadata": {},
   "source": [
    "The next function `qlearn()` should train your Q-matrix by playing `num_games` games according to an 'epsilon-greedy' strategy (Google it!) and update the Q-matrix accoding to the following Bellmann equation:\n",
    "\n",
    "$$ \\mathbf{Q}^{\\rm new}[s_t,a_t]=(1-\\alpha)\\mathbf{Q}[s_t,a_t]+\\alpha\\left(R_t+\\gamma\\, \\text{max}_a  \\mathbf{Q}[s_{t+1},a]\\right). $$\n",
    "\n",
    "Here, $\\alpha$ is the learning rate and $\\gamma$ is the discount factor and are bounded by $\\alpha,\\gamma\\in[0,1]$. These parameters have to be set with care, as they influence the speed of convergence of the Q-matrix. The discount factor lets you weigh the importance of future over immediate rewards. This is done by mixing-in the term $\\text{max}_a  \\mathbf{Q}[s_{t+1},a]$, which gives the maximum Q value in the future state."
   ]
  },
  {
   "cell_type": "code",
   "execution_count": 5,
   "metadata": {
    "ExecuteTime": {
     "end_time": "2025-03-04T20:38:25.611457Z",
     "start_time": "2025-03-04T20:38:25.607943500Z"
    }
   },
   "outputs": [],
   "source": [
    "def qLearn(Q, α, γ, ϵ, ϵ_min, num_games, max_it=1000, nbins1 = 20, nbins2 = 20):\n",
    "    \"\"\" \n",
    "    learns the Q table by interacting with the environment and applying the Bellman equation \n",
    "    Q: q-table (n-dimensional ndarray)\n",
    "    α: learning rate\n",
    "    γ: discount factor\n",
    "    ϵ: probability of taking a random action in the epsilon-greedy policy\n",
    "    ϵ_min: minimum value ϵ can take when applying a reduction algortihm to ϵ\n",
    "    \"\"\"\n",
    "\n",
    "    state = env.reset()  # reset the current game\n",
    "    wins = 0\n",
    "    avg = 0\n",
    "    for game in range(num_games):\n",
    "        state = env.reset()[0]\n",
    "        state = s2q(state, nbins1=nbins1, nbins2=nbins2)\n",
    "        won = False\n",
    "        total = 0\n",
    "        it = 0\n",
    "        \n",
    "        while not won and it<max_it:\n",
    "            \n",
    "            if np.random.rand() < ϵ:\n",
    "                action = env.action_space.sample()  # Random action\n",
    "            else:\n",
    "                action = np.argmax(Q[state[0]][state[1]])  # Best action from Q-table\n",
    "            next_state, reward, won,_,_ = env.step(action)\n",
    "            \n",
    "            next_state = s2q(next_state, nbins1=nbins1, nbins2=nbins2)\n",
    "            Q[state[0]][state[1]][action] = (1 - α) * Q[state[0]][state[1]][action] + α * (reward + γ * np.max(Q[next_state[0]][next_state[1]]))\n",
    "            \n",
    "            total += reward\n",
    "            \n",
    "            state = next_state\n",
    "            \n",
    "            it+=1\n",
    "        ϵ = max(ϵ_min, ϵ * 0.9)\n",
    "        \n",
    "        if won:\n",
    "            wins += 1\n",
    "        avg += total\n",
    "        \n",
    "    print(f'Training ended. Number of wins: {wins}')\n",
    "    return wins, avg/num_games"
   ]
  },
  {
   "cell_type": "markdown",
   "metadata": {},
   "source": [
    "Finally you put everything together. It is almost completly finished for you. What values for the hyperparameters do you choose? "
   ]
  },
  {
   "cell_type": "code",
   "execution_count": 26,
   "metadata": {
    "ExecuteTime": {
     "end_time": "2025-03-04T20:56:11.457845400Z",
     "start_time": "2025-03-04T20:56:09.108450600Z"
    }
   },
   "outputs": [
    {
     "name": "stdout",
     "output_type": "stream",
     "text": [
      "Training ended. Number of wins: 79\n",
      "avg: -565.75\n"
     ]
    }
   ],
   "source": [
    "# initialize the Q matrix as a numpy array with zeros\n",
    "Q = np.zeros(shape=(20,20,3))\n",
    "\n",
    "env = gym.make('MountainCar-v0')\n",
    "env.reset()\n",
    "\n",
    "# set the hyperparameters\n",
    "α = 0.5  # learning rate [0,1]\n",
    "γ = 0.5  # discount rate [0,1]\n",
    "ϵ = 1  # epsilon greedy strategy [0,1]\n",
    "ϵ_min = 0  # minimum value of epsilon [0,1]\n",
    "num_games = 100 # number of training games\n",
    "\n",
    "# train the agent and store results\n",
    "wins, avg = qLearn(Q, α, γ, ϵ, ϵ_min, num_games, max_it=1000)\n",
    "print(f\"avg: {avg}\")\n",
    "np.save('qrun1.npy', Q)\n"
   ]
  },
  {
   "cell_type": "markdown",
   "metadata": {},
   "source": [
    "Once a Q-matrix has been trained we can use it as a policy and play a game. Write code that performs actions according to the input Q-matrix to play a single episode."
   ]
  },
  {
   "cell_type": "code",
   "execution_count": 27,
   "metadata": {
    "ExecuteTime": {
     "end_time": "2025-03-04T20:56:30.875453300Z",
     "start_time": "2025-03-04T20:56:13.503503500Z"
    }
   },
   "outputs": [
    {
     "name": "stdout",
     "output_type": "stream",
     "text": [
      "Qplay Output: -1.0 True True {}\n"
     ]
    }
   ],
   "source": [
    "# replay the game using the trained Q matrix\n",
    "Q = np.load('qrun1.npy')\n",
    "\n",
    "# create and reset the environment with render mode on\n",
    "env = gym.make('MountainCar-v0', render_mode='human')\n",
    "state = env.reset()[0]  \n",
    "    \n",
    "# play a single episode with max. 1000 actions\n",
    "for _ in range(1000):           \n",
    "    env.render()                \n",
    "    loc = s2q(state)\n",
    "    a = np.argmax(Q[loc[0]][loc[1]]) \n",
    "    state, reward, terminated, truncated, info = env.step(a) \n",
    "        \n",
    "    if terminated: \n",
    "        print('Qplay Output:', reward, terminated, truncated, info)\n",
    "        break\n",
    "\n",
    "env.close()"
   ]
  },
  {
   "cell_type": "markdown",
   "metadata": {},
   "source": [
    "# Experiments\n",
    "Set up a couple fo experiments to figure out the following things:\n",
    "* How do $\\alpha$ and $\\gamma$ effect your learning perfomance?\n",
    "* Are both elements of the state vector equally important and can we reduce the dimensions of the Q-matrix of one (or both) of them?"
   ]
  },
  {
   "cell_type": "markdown",
   "source": [
    "## Experiment 1: Optimizing $\\alpha$ and $\\gamma$\n",
    "\n",
    "For this experiment a grid of 5 alphas and gammas ranging between 0 and 1 is created. The model is trained 3 times for each of the 25 parameter combinations. The average of the 3 training sessions is plotted in a mesh to see the performance"
   ],
   "metadata": {
    "collapsed": false
   }
  },
  {
   "cell_type": "code",
   "execution_count": 8,
   "metadata": {
    "ExecuteTime": {
     "end_time": "2025-03-04T20:43:37.892236200Z",
     "start_time": "2025-03-04T20:39:35.253746700Z"
    }
   },
   "outputs": [
    {
     "name": "stdout",
     "output_type": "stream",
     "text": [
      "Training ended. Number of wins: 0\n",
      "Training ended. Number of wins: 0\n",
      "Training ended. Number of wins: 0\n",
      "α:0.0, γ:0.0, avg wins:0.0\n",
      "Training ended. Number of wins: 0\n",
      "Training ended. Number of wins: 0\n",
      "Training ended. Number of wins: 0\n",
      "α:0.25, γ:0.0, avg wins:0.0\n",
      "Training ended. Number of wins: 0\n",
      "Training ended. Number of wins: 0\n",
      "Training ended. Number of wins: 0\n",
      "α:0.5, γ:0.0, avg wins:0.0\n",
      "Training ended. Number of wins: 0\n",
      "Training ended. Number of wins: 0\n",
      "Training ended. Number of wins: 0\n",
      "α:0.75, γ:0.0, avg wins:0.0\n",
      "Training ended. Number of wins: 0\n",
      "Training ended. Number of wins: 0\n",
      "Training ended. Number of wins: 0\n",
      "α:1.0, γ:0.0, avg wins:0.0\n",
      "Training ended. Number of wins: 0\n",
      "Training ended. Number of wins: 0\n",
      "Training ended. Number of wins: 0\n",
      "α:0.0, γ:0.25, avg wins:0.0\n",
      "Training ended. Number of wins: 61\n",
      "Training ended. Number of wins: 64\n",
      "Training ended. Number of wins: 57\n",
      "α:0.25, γ:0.25, avg wins:60.666666666666664\n",
      "Training ended. Number of wins: 66\n",
      "Training ended. Number of wins: 73\n",
      "Training ended. Number of wins: 61\n",
      "α:0.5, γ:0.25, avg wins:66.66666666666667\n",
      "Training ended. Number of wins: 46\n",
      "Training ended. Number of wins: 40\n",
      "Training ended. Number of wins: 27\n",
      "α:0.75, γ:0.25, avg wins:37.666666666666664\n",
      "Training ended. Number of wins: 5\n",
      "Training ended. Number of wins: 2\n",
      "Training ended. Number of wins: 14\n",
      "α:1.0, γ:0.25, avg wins:7.0\n",
      "Training ended. Number of wins: 0\n",
      "Training ended. Number of wins: 0\n",
      "Training ended. Number of wins: 0\n",
      "α:0.0, γ:0.5, avg wins:0.0\n",
      "Training ended. Number of wins: 62\n",
      "Training ended. Number of wins: 65\n",
      "Training ended. Number of wins: 67\n",
      "α:0.25, γ:0.5, avg wins:64.66666666666667\n",
      "Training ended. Number of wins: 67\n",
      "Training ended. Number of wins: 69\n",
      "Training ended. Number of wins: 75\n",
      "α:0.5, γ:0.5, avg wins:70.33333333333333\n",
      "Training ended. Number of wins: 71\n",
      "Training ended. Number of wins: 52\n",
      "Training ended. Number of wins: 65\n",
      "α:0.75, γ:0.5, avg wins:62.666666666666664\n",
      "Training ended. Number of wins: 23\n",
      "Training ended. Number of wins: 31\n",
      "Training ended. Number of wins: 32\n",
      "α:1.0, γ:0.5, avg wins:28.666666666666668\n",
      "Training ended. Number of wins: 0\n",
      "Training ended. Number of wins: 0\n",
      "Training ended. Number of wins: 0\n",
      "α:0.0, γ:0.75, avg wins:0.0\n",
      "Training ended. Number of wins: 66\n",
      "Training ended. Number of wins: 65\n",
      "Training ended. Number of wins: 70\n",
      "α:0.25, γ:0.75, avg wins:67.0\n",
      "Training ended. Number of wins: 64\n",
      "Training ended. Number of wins: 71\n",
      "Training ended. Number of wins: 73\n",
      "α:0.5, γ:0.75, avg wins:69.33333333333333\n",
      "Training ended. Number of wins: 63\n",
      "Training ended. Number of wins: 66\n",
      "Training ended. Number of wins: 60\n",
      "α:0.75, γ:0.75, avg wins:63.0\n",
      "Training ended. Number of wins: 34\n",
      "Training ended. Number of wins: 46\n",
      "Training ended. Number of wins: 37\n",
      "α:1.0, γ:0.75, avg wins:39.0\n",
      "Training ended. Number of wins: 0\n",
      "Training ended. Number of wins: 0\n",
      "Training ended. Number of wins: 0\n",
      "α:0.0, γ:1.0, avg wins:0.0\n",
      "Training ended. Number of wins: 64\n",
      "Training ended. Number of wins: 63\n",
      "Training ended. Number of wins: 65\n",
      "α:0.25, γ:1.0, avg wins:64.0\n",
      "Training ended. Number of wins: 61\n",
      "Training ended. Number of wins: 74\n",
      "Training ended. Number of wins: 62\n",
      "α:0.5, γ:1.0, avg wins:65.66666666666667\n",
      "Training ended. Number of wins: 64\n",
      "Training ended. Number of wins: 60\n",
      "Training ended. Number of wins: 69\n",
      "α:0.75, γ:1.0, avg wins:64.33333333333333\n",
      "Training ended. Number of wins: 36\n",
      "Training ended. Number of wins: 35\n",
      "Training ended. Number of wins: 36\n",
      "α:1.0, γ:1.0, avg wins:35.666666666666664\n"
     ]
    }
   ],
   "source": [
    "α_list = np.linspace(0, 1, 5)\n",
    "γ_list = np.linspace(0, 1, 5)\n",
    "\n",
    "env = gym.make('MountainCar-v0')\n",
    "env.reset()\n",
    "\n",
    "α_grid, γ_grid = np.meshgrid(α_list, γ_list)\n",
    "wins_grid = np.zeros_like(α_grid)\n",
    "\n",
    "# Run simulations and store results\n",
    "for i in range(len(α_list)):\n",
    "    for j in range(len(γ_list)):\n",
    "        avg = 0\n",
    "        for _ in range(3):\n",
    "            Q = np.zeros(shape=(20, 20, 3))\n",
    "            wins, _ = qLearn(Q, α_grid[i, j], γ_grid[i, j], ϵ, ϵ_min, num_games)\n",
    "            avg += wins\n",
    "        wins_grid[j, i] = avg/3\n",
    "        print(f'α:{ α_grid[i, j]}, γ:{γ_grid[i, j]}, avg wins:{avg/3}')"
   ]
  },
  {
   "cell_type": "code",
   "execution_count": 9,
   "outputs": [
    {
     "data": {
      "text/plain": "<Figure size 1000x700 with 1 Axes>",
      "image/png": "[encoded data removed]"
     },
     "metadata": {},
     "output_type": "display_data"
    }
   ],
   "source": [
    "# Plot the results\n",
    "fig = plt.figure(figsize=(10, 7))\n",
    "ax = fig.add_subplot(111, projection='3d')\n",
    "\n",
    "ax.plot_surface(α_grid, γ_grid, wins_grid, cmap='viridis')\n",
    "\n",
    "# Labels\n",
    "ax.set_xlabel('Alpha (α)')\n",
    "ax.set_ylabel('Gamma (γ)')\n",
    "ax.set_zlabel('Wins')\n",
    "ax.set_title('Optimization of α and γ')\n",
    "\n",
    "plt.show()"
   ],
   "metadata": {
    "collapsed": false,
    "ExecuteTime": {
     "end_time": "2025-03-04T20:43:38.029263900Z",
     "start_time": "2025-03-04T20:43:37.890220Z"
    }
   }
  },
  {
   "cell_type": "markdown",
   "source": [
    "## Experiment 2: Reducing the dimensionality of the state space\n",
    "\n",
    " In this experiment we will explore the importance of the states. This will be done by disregarding one of the states and training the algorithm. This will be done for each of the states 5 times and then the average results will be compared. \n",
    "\n",
    "As training parameters we use the results obtained from the previous experiment"
   ],
   "metadata": {
    "collapsed": false
   }
  },
  {
   "cell_type": "code",
   "execution_count": 14,
   "metadata": {
    "ExecuteTime": {
     "end_time": "2025-03-04T20:48:03.813992400Z",
     "start_time": "2025-03-04T20:47:54.032827100Z"
    }
   },
   "outputs": [
    {
     "name": "stdout",
     "output_type": "stream",
     "text": [
      "Training ended. Number of wins: 58\n",
      "Training ended. Number of wins: 51\n",
      "Training ended. Number of wins: 83\n",
      "Training ended. Number of wins: 72\n",
      "Training ended. Number of wins: 63\n",
      "avg reward when ignoring state 1: -587.3580000000001\n",
      "avg wins when ignoring state 1: 65.4\n"
     ]
    }
   ],
   "source": [
    "nbins1 = 1\n",
    "nbins2 = 20\n",
    "\n",
    "# set the hyperparameters\n",
    "α = 0.5  # learning rate [0,1]\n",
    "γ = 0.75  # discount rate [0,1]\n",
    "ϵ = 1  # epsilon greedy strategy [0,1]\n",
    "ϵ_min = 0  # minimum value of epsilon [0,1]\n",
    "num_games = 100 # number of training games\n",
    "\n",
    "env = gym.make('MountainCar-v0')\n",
    "env.reset()\n",
    "\n",
    "# train the agent and store results\n",
    "avg_wins = 0\n",
    "avg_reward = 0\n",
    "for _ in range(5):\n",
    "    Q = np.zeros(shape=(nbins1,nbins2,3))\n",
    "    wins, avg = qLearn(Q, α, γ, ϵ, ϵ_min, num_games, max_it=1000, nbins1=nbins1, nbins2=nbins2)\n",
    "    avg_wins += wins\n",
    "    avg_reward += avg\n",
    "print(f\"avg reward when ignoring state 1: {avg_reward/5}\")\n",
    "print(f\"avg wins when ignoring state 1: {avg_wins/5}\")\n",
    "np.save('qrunIgnoringState1.npy', Q)"
   ]
  },
  {
   "cell_type": "code",
   "execution_count": 11,
   "outputs": [
    {
     "name": "stdout",
     "output_type": "stream",
     "text": [
      "Training ended. Number of wins: 0\n",
      "Training ended. Number of wins: 0\n",
      "Training ended. Number of wins: 0\n",
      "Training ended. Number of wins: 0\n",
      "Training ended. Number of wins: 0\n",
      "avg reward when ignoring state 2: -1000.0\n",
      "avg wins when ignoring state 2: 0.0\n"
     ]
    }
   ],
   "source": [
    "nbins1 = 20\n",
    "nbins2 = 1\n",
    "\n",
    "# set the hyperparameters\n",
    "α = 0.5  # learning rate [0,1]\n",
    "γ = 0.75  # discount rate [0,1]\n",
    "ϵ = 1  # epsilon greedy strategy [0,1]\n",
    "ϵ_min = 0  # minimum value of epsilon [0,1]\n",
    "num_games = 100 # number of training games\n",
    "\n",
    "env = gym.make('MountainCar-v0')\n",
    "env.reset()\n",
    "\n",
    "# train the agent and store results\n",
    "avg_wins = 0\n",
    "avg_reward = 0\n",
    "for _ in range(5):\n",
    "    Q = np.zeros(shape=(nbins1,nbins2,3))\n",
    "    wins, avg = qLearn(Q, α, γ, ϵ, ϵ_min, num_games, max_it=1000, nbins1=nbins1, nbins2=nbins2)\n",
    "    avg_wins += wins\n",
    "    avg_reward += avg\n",
    "print(f\"avg reward when ignoring state 2: {avg_reward/5}\")\n",
    "print(f\"avg wins when ignoring state 2: {avg_wins/5}\")\n",
    "np.save('qrunIgnoringState2.npy', Q)"
   ],
   "metadata": {
    "collapsed": false,
    "ExecuteTime": {
     "end_time": "2025-03-04T20:44:09.147509700Z",
     "start_time": "2025-03-04T20:43:50.293206800Z"
    }
   }
  },
  {
   "cell_type": "markdown",
   "source": [
    "As can be seen the first state, the position, of the car can be ignored with minimal degradation in performance. However, when ignoring the second state, the car's velocity, the car never reaches the goal. This shows that velocity is critical while position is quite insignificant for the training result. There is a possibility that changing the training parameters for the model which ignores position could lead to a winning model but there is no guarantee.\n",
    "\n",
    "Below you can watch the two replays:"
   ],
   "metadata": {
    "collapsed": false
   }
  },
  {
   "cell_type": "code",
   "execution_count": 15,
   "outputs": [
    {
     "name": "stdout",
     "output_type": "stream",
     "text": [
      "Qplay Output: -1.0 True True {}\n"
     ]
    }
   ],
   "source": [
    "# replay the game using the trained Q matrix which ignores the position of the car\n",
    "Q = np.load('qrunIgnoringState1.npy')\n",
    "\n",
    "# create and reset the environment with render mode on\n",
    "env = gym.make('MountainCar-v0', render_mode='human')\n",
    "state = env.reset()[0]  \n",
    "    \n",
    "# play a single episode with max. 1000 actions\n",
    "for _ in range(1000):           \n",
    "    env.render()                \n",
    "    loc = s2q(state, nbins1=1, nbins2=20)\n",
    "    a = np.argmax(Q[loc[0]][loc[1]]) \n",
    "    state, reward, terminated, truncated, info = env.step(a) \n",
    "        \n",
    "    if terminated: \n",
    "        print('Qplay Output:', reward, terminated, truncated, info)\n",
    "        break\n",
    "\n",
    "env.close()"
   ],
   "metadata": {
    "collapsed": false,
    "ExecuteTime": {
     "end_time": "2025-03-04T20:48:28.053200900Z",
     "start_time": "2025-03-04T20:48:09.271114800Z"
    }
   }
  },
  {
   "cell_type": "code",
   "execution_count": 17,
   "outputs": [],
   "source": [
    "# replay the game using the trained Q matrix which ignores the velocity of the car\n",
    "Q = np.load('qrunIgnoringState2.npy')\n",
    "\n",
    "# create and reset the environment with render mode on\n",
    "env = gym.make('MountainCar-v0', render_mode='human')\n",
    "state = env.reset()[0]  \n",
    "    \n",
    "# play a single episode with max. 1000 actions\n",
    "for _ in range(1000):           \n",
    "    env.render()                \n",
    "    loc = s2q(state, nbins1=20, nbins2=1)\n",
    "    a = np.argmax(Q[loc[0]][loc[1]]) \n",
    "    state, reward, terminated, truncated, info = env.step(a) \n",
    "        \n",
    "    if terminated: \n",
    "        print('Qplay Output:', reward, terminated, truncated, info)\n",
    "        break\n",
    "\n",
    "env.close()"
   ],
   "metadata": {
    "collapsed": false,
    "ExecuteTime": {
     "end_time": "2025-03-04T20:50:10.218124Z",
     "start_time": "2025-03-04T20:49:03.039498600Z"
    }
   }
  }
 ],
 "metadata": {
  "kernelspec": {
   "display_name": "Python",
   "language": "python",
   "name": "python3"
  },
  "language_info": {
   "codemirror_mode": {
    "name": "ipython",
    "version": 3
   },
   "file_extension": ".py",
   "mimetype": "text/x-python",
   "name": "python",
   "nbconvert_exporter": "python",
   "pygments_lexer": "ipython3",
   "version": "3.8.10"
  }
 },
 "nbformat": 4,
 "nbformat_minor": 4
}
