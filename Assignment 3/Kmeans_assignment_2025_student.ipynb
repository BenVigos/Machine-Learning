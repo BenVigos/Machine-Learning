{
 "cells": [
  {
   "cell_type": "markdown",
   "metadata": {
    "user_expressions": []
   },
   "source": [
    "# Assignment 3: K-means\n",
    "\n",
    "### Names of group members (max 2):\n",
    "    Olga (Siemieniuk)\n",
    "    Konstantinos Benjamin (Vigos)"
   ]
  },
  {
   "cell_type": "code",
   "execution_count": 1,
   "metadata": {
    "tags": [],
    "ExecuteTime": {
     "end_time": "2025-03-02T14:35:36.697298200Z",
     "start_time": "2025-03-02T14:35:35.938247700Z"
    }
   },
   "outputs": [
    {
     "name": "stdout",
     "output_type": "stream",
     "text": [
      "Note: you may need to restart the kernel to use updated packages.\n"
     ]
    },
    {
     "name": "stderr",
     "output_type": "stream",
     "text": [
      "\n",
      "[notice] A new release of pip is available: 25.0 -> 25.0.1\n",
      "[notice] To update, run: C:\\Users\\Konstantinos\\AppData\\Local\\Programs\\Python\\Python311\\python.exe -m pip install --upgrade pip\n",
      "ERROR: Invalid requirement: '#installs': Expected package name at the start of dependency specifier\n",
      "    #installs\n",
      "    ^\n"
     ]
    }
   ],
   "source": [
    "# importing the required modules\n",
    "%pip install numpy matplotlib #installs them if they are not yet there\n",
    "import numpy as np \n",
    "import matplotlib.pyplot as plt\n",
    "# to get matplot figures render correctly in the notebook use:\n",
    "%matplotlib inline "
   ]
  },
  {
   "cell_type": "markdown",
   "metadata": {
    "user_expressions": []
   },
   "source": [
    "## Part 1: Coding and testing the Kmeans algorithm\n",
    "\n",
    "### Load and Inspect the Data"
   ]
  },
  {
   "cell_type": "code",
   "execution_count": 2,
   "metadata": {
    "tags": [],
    "ExecuteTime": {
     "end_time": "2025-03-02T14:35:48.290037300Z",
     "start_time": "2025-03-02T14:35:48.280698600Z"
    }
   },
   "outputs": [],
   "source": [
    "## the data set for testing\n",
    "\n",
    "df = np.array([ [12, 20, 28, 18, 29, 33, 24, 45, 45, 52, 51, 52, 55, 53, 55, 61, 64, 69, 72],\n",
    "                [39, 36, 30, 52, 54, 46, 55, 59, 63, 70, 66, 63, 58, 23, 14, 8, 19, 7, 24] ])"
   ]
  },
  {
   "cell_type": "code",
   "execution_count": 3,
   "metadata": {
    "tags": [],
    "ExecuteTime": {
     "end_time": "2025-03-02T14:37:55.023871100Z",
     "start_time": "2025-03-02T14:37:54.946912100Z"
    }
   },
   "outputs": [
    {
     "data": {
      "text/plain": "<Figure size 640x480 with 1 Axes>",
      "image/png": "[encoded data removed]"
     },
     "metadata": {},
     "output_type": "display_data"
    }
   ],
   "source": [
    "# Quick scatterplot for yourself, can you imagine what the cluster should be?\n",
    "\n",
    "plt.scatter(df[0], df[1])\n",
    "plt.show()\n"
   ]
  },
  {
   "cell_type": "markdown",
   "metadata": {
    "user_expressions": []
   },
   "source": [
    "\n",
    "### Method 1. Using Kmeans form package sklearn.\n",
    "\n",
    "<ul>\n",
    "    <li> Make a plot function that gives the same colour to data points within one cluster. \n",
    "    </li>\n",
    "    <li> Call KMeans from the package. (Consult the sklearn manual online and figure out how to do it.)\n",
    "    </li>\n",
    "    <li> Plot next to the data points also the centres of the clusters ($Z_j$)\n",
    "    </li>\n",
    " </ul>"
   ]
  },
  {
   "cell_type": "code",
   "execution_count": 13,
   "metadata": {
    "ExecuteTime": {
     "end_time": "2025-03-02T14:45:53.277661300Z",
     "start_time": "2025-03-02T14:45:53.258488200Z"
    }
   },
   "outputs": [
    {
     "ename": "IndexError",
     "evalue": "index 2 is out of bounds for axis 0 with size 2",
     "output_type": "error",
     "traceback": [
      "\u001B[1;31m---------------------------------------------------------------------------\u001B[0m",
      "\u001B[1;31mIndexError\u001B[0m                                Traceback (most recent call last)",
      "Cell \u001B[1;32mIn[13], line 13\u001B[0m\n\u001B[0;32m     10\u001B[0m     label \u001B[38;5;241m=\u001B[39m kmeans\u001B[38;5;241m.\u001B[39mpredict(data)\n\u001B[0;32m     11\u001B[0m     \u001B[38;5;28mprint\u001B[39m(label)\n\u001B[1;32m---> 13\u001B[0m \u001B[43mplotclusters\u001B[49m\u001B[43m(\u001B[49m\u001B[43mdf\u001B[49m\u001B[43m,\u001B[49m\u001B[43m \u001B[49m\u001B[43mk\u001B[49m\u001B[43m)\u001B[49m\n",
      "Cell \u001B[1;32mIn[13], line 9\u001B[0m, in \u001B[0;36mplotclusters\u001B[1;34m(data, k)\u001B[0m\n\u001B[0;32m      8\u001B[0m \u001B[38;5;28;01mdef\u001B[39;00m\u001B[38;5;250m \u001B[39m\u001B[38;5;21mplotclusters\u001B[39m(data, k):\n\u001B[1;32m----> 9\u001B[0m     kmeans \u001B[38;5;241m=\u001B[39m KMeans(n_clusters\u001B[38;5;241m=\u001B[39mk, random_state\u001B[38;5;241m=\u001B[39m\u001B[38;5;241m0\u001B[39m, n_init\u001B[38;5;241m=\u001B[39m\u001B[38;5;124m\"\u001B[39m\u001B[38;5;124mauto\u001B[39m\u001B[38;5;124m\"\u001B[39m)\u001B[38;5;241m.\u001B[39mfit((data[\u001B[38;5;241m1\u001B[39m], \u001B[43mdata\u001B[49m\u001B[43m[\u001B[49m\u001B[38;5;241;43m2\u001B[39;49m\u001B[43m]\u001B[49m)) \n\u001B[0;32m     10\u001B[0m     label \u001B[38;5;241m=\u001B[39m kmeans\u001B[38;5;241m.\u001B[39mpredict(data)\n\u001B[0;32m     11\u001B[0m     \u001B[38;5;28mprint\u001B[39m(label)\n",
      "\u001B[1;31mIndexError\u001B[0m: index 2 is out of bounds for axis 0 with size 2"
     ]
    }
   ],
   "source": [
    "import numpy as np\n",
    "import matplotlib.pyplot as plt\n",
    "%matplotlib inline\n",
    "from sklearn.cluster import KMeans\n",
    "\n",
    "k = 3 ## the number of clusters\n",
    "\n",
    "def plotclusters(data, k):\n",
    "    kmeans = KMeans(n_clusters=k, random_state=0, n_init=\"auto\").fit((data[1], data[2])) \n",
    "    ...\n",
    "    \n",
    "plotclusters(df, k)"
   ]
  },
  {
   "cell_type": "markdown",
   "metadata": {
    "user_expressions": []
   },
   "source": [
    "### Method 2. Code yourself: A heuristic, simple, fast, pretty good algorithm.\n",
    "\n",
    "<ol>\n",
    "    <li> Initialization. Choose k random points as centres; plot the data black, the three centers in colour\n",
    "    </li>\n",
    "    <li> Function: assigmnent. Compute for every data point the closest centre: assign the data point to that cluster.\n",
    "    </li>\n",
    "    <li> Function: replace. Put all centres as the average of the data in their cluster.\n",
    "    </li>\n",
    "    <li> Script. Repeat assignment, replace, plotclusters until nothing changes. \n",
    "    </li>\n",
    " </ol>"
   ]
  },
  {
   "cell_type": "code",
   "execution_count": null,
   "metadata": {},
   "outputs": [],
   "source": [
    "## Part 1. Initialization.\n",
    "..."
   ]
  },
  {
   "cell_type": "code",
   "execution_count": null,
   "metadata": {},
   "outputs": [],
   "source": [
    "## Part 2. Function: assigmnent.\n",
    "..."
   ]
  },
  {
   "cell_type": "code",
   "execution_count": null,
   "metadata": {},
   "outputs": [],
   "source": [
    "## Part 3. Function: assigmnent.\n",
    "..."
   ]
  },
  {
   "cell_type": "code",
   "execution_count": null,
   "metadata": {},
   "outputs": [],
   "source": [
    "## Part 4. Script.\n",
    "..."
   ]
  },
  {
   "cell_type": "markdown",
   "metadata": {
    "user_expressions": []
   },
   "source": [
    "# Part 2: Apply Kmeans to Wines database\n",
    "    \n",
    "### Let's start by thanking the creators of the dataset that we will be using:\n",
    "\n",
    "Cortez,Paulo, Cerdeira,A., Almeida,F., Matos,T., and Reis,J.. (2009). Wine Quality. UCI Machine Learning Repository. https://doi.org/10.24432/C56S3T.\n",
    "\n",
    "## Loading and Inspecting the Data"
   ]
  },
  {
   "cell_type": "code",
   "execution_count": null,
   "metadata": {
    "tags": []
   },
   "outputs": [],
   "source": [
    "# importing the required modules\n",
    "%pip install numpy matplotlib seaborn pandas scikit-learn #installs them if they are not yet there\n",
    "import numpy as np \n",
    "import matplotlib.pyplot as plt\n",
    "# to get matplot figures render correctly in the notebook use:\n",
    "%matplotlib inline \n",
    "import pandas as pd\n",
    "import seaborn as sns\n",
    "\n",
    "rwine = pd.read_csv('winequality-red.csv', sep=';')  # Makes Pandas objects\n",
    "wwine = pd.read_csv('winequality-white.csv', sep=';') "
   ]
  },
  {
   "cell_type": "code",
   "execution_count": null,
   "metadata": {
    "tags": []
   },
   "outputs": [],
   "source": [
    "# You may analyse the dataset of the wine of your choosing (red or white):\n",
    "wines = 'your wine here'.sample(frac = 1)\n",
    "\n",
    "# We just drop the 'quality' from the dataset:\n",
    "wines_noquality=wines.drop('quality', axis=1)\n",
    "# the number of samples M in the total combined set is still the same\n",
    "M = len(wines_noquality)\n",
    "# the number of features N (excluding the bias) are now all (excluding f='quality'):\n",
    "N =  wines_noquality.shape[1]\n",
    "wines_noquality.head() # We will use everything you see here.\n",
    "X=np.zeros((M,N))\n",
    "X[0:M,0:N]=wines_noquality[:][0:M]\n"
   ]
  },
  {
   "cell_type": "markdown",
   "metadata": {
    "user_expressions": []
   },
   "source": [
    "### Prepare the data and reduce the dimensionelity of the feature space\n",
    "\n",
    "<ol>\n",
    "    <li>Feature scaling of all features in the database</li>\n",
    "    <li>Do a Principle Component Analysis (PCA)</li>\n",
    "    <li>Reduce the dimensionality of the feature space to 2 by projecting your samples along the first 2 principle component vector</li>\n",
    "    <li>Plot your samples as a scatter plot in 2d</li>\n",
    "    </ol>"
   ]
  },
  {
   "cell_type": "code",
   "execution_count": null,
   "metadata": {
    "tags": []
   },
   "outputs": [],
   "source": [
    "# Step 1: feature scaling\n",
    "..."
   ]
  },
  {
   "cell_type": "code",
   "execution_count": null,
   "metadata": {
    "tags": []
   },
   "outputs": [],
   "source": [
    "# Step 2: PCA analyis\n",
    "from sklearn.decomposition import PCA\n",
    "..."
   ]
  },
  {
   "cell_type": "code",
   "execution_count": null,
   "metadata": {
    "tags": []
   },
   "outputs": [],
   "source": [
    "# Step 3: Project samples along PCA directions\n",
    "..."
   ]
  },
  {
   "cell_type": "code",
   "execution_count": null,
   "metadata": {
    "tags": []
   },
   "outputs": [],
   "source": [
    "# Step 4: Scatterplot of sample in 2d plane spanned by the first 2 PCA vectors\n",
    "..."
   ]
  },
  {
   "cell_type": "markdown",
   "metadata": {
    "user_expressions": []
   },
   "source": [
    "### Kmeans cluster analysis in the plane spanned by the first 2 PCA vectors\n",
    "\n",
    "<ol>\n",
    "    <li>Do Kmeans clustering with either method 1 or method 2</li>\n",
    "    <li>As a function of the number of centroids, plot the average distance of each sample to its centroid </li>\n",
    "    <li>Determine a sensible number of clusters and explain why. You could try the 'elbow method'. What is the problem with not knowing the number of clusters? </li>\n",
    "    <li>Plot the clusters in a scatterpot with different colors</li>\n",
    "</ol>"
   ]
  },
  {
   "cell_type": "code",
   "execution_count": null,
   "metadata": {
    "tags": []
   },
   "outputs": [],
   "source": [
    "# Step 1:  Kmeans clustering \n",
    "..."
   ]
  },
  {
   "cell_type": "code",
   "execution_count": null,
   "metadata": {
    "tags": []
   },
   "outputs": [],
   "source": [
    "# Step 2:  Average distance to the k centroids\n",
    "..."
   ]
  },
  {
   "cell_type": "code",
   "execution_count": null,
   "metadata": {
    "tags": []
   },
   "outputs": [],
   "source": [
    "# Step 3: Determine optimal k value\n",
    "..."
   ]
  },
  {
   "cell_type": "code",
   "execution_count": null,
   "metadata": {},
   "outputs": [],
   "source": []
  }
 ],
 "metadata": {
  "kernelspec": {
   "display_name": "Python",
   "language": "python",
   "name": "python3"
  },
  "language_info": {
   "codemirror_mode": {
    "name": "ipython",
    "version": 3
   },
   "file_extension": ".py",
   "mimetype": "text/x-python",
   "name": "python",
   "nbconvert_exporter": "python",
   "pygments_lexer": "ipython3",
   "version": "3.8.10"
  }
 },
 "nbformat": 4,
 "nbformat_minor": 4
}
