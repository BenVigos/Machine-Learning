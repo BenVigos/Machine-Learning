{
 "cells": [
  {
   "cell_type": "markdown",
   "source": [
    "Hello world\n",
    "Remember to use the following command to get interactive plots:\n",
    "%Matplotlib notebook"
   ],
   "metadata": {
    "collapsed": false
   },
   "id": "8714284d6f5257f5"
  },
  {
   "cell_type": "code",
   "execution_count": null,
   "outputs": [],
   "source": [],
   "metadata": {
    "collapsed": false,
    "ExecuteTime": {
     "end_time": "2025-02-03T08:52:49.913106Z",
     "start_time": "2025-02-03T08:52:49.907578300Z"
    }
   },
   "id": "2307c9849fd0bb0d"
  }
 ],
 "metadata": {
  "kernelspec": {
   "display_name": "Python 3",
   "language": "python",
   "name": "python3"
  },
  "language_info": {
   "codemirror_mode": {
    "name": "ipython",
    "version": 2
   },
   "file_extension": ".py",
   "mimetype": "text/x-python",
   "name": "python",
   "nbconvert_exporter": "python",
   "pygments_lexer": "ipython2",
   "version": "2.7.6"
  }
 },
 "nbformat": 4,
 "nbformat_minor": 5
}
