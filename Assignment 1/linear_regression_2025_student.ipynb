{
 "cells": [
  {
   "cell_type": "markdown",
   "metadata": {
    "user_expressions": []
   },
   "source": [
    "# Linear Regression\n"
   ]
  },
  {
   "cell_type": "code",
   "execution_count": 223,
   "metadata": {
    "tags": [],
    "ExecuteTime": {
     "end_time": "2025-02-03T11:18:11.827437900Z",
     "start_time": "2025-02-03T11:18:10.627199900Z"
    }
   },
   "outputs": [
    {
     "name": "stdout",
     "output_type": "stream",
     "text": [
      "Requirement already satisfied: numpy in c:\\users\\konstantinos\\appdata\\local\\programs\\python\\python311\\lib\\site-packages (2.2.2)\n",
      "Requirement already satisfied: matplotlib in c:\\users\\konstantinos\\appdata\\local\\programs\\python\\python311\\lib\\site-packages (3.10.0)\n",
      "Requirement already satisfied: seaborn in c:\\users\\konstantinos\\appdata\\local\\programs\\python\\python311\\lib\\site-packages (0.13.2)\n",
      "Requirement already satisfied: pandas in c:\\users\\konstantinos\\appdata\\local\\programs\\python\\python311\\lib\\site-packages (2.2.3)\n",
      "Requirement already satisfied: scikit-learn in c:\\users\\konstantinos\\appdata\\local\\programs\\python\\python311\\lib\\site-packages (1.6.1)\n",
      "Requirement already satisfied: contourpy>=1.0.1 in c:\\users\\konstantinos\\appdata\\local\\programs\\python\\python311\\lib\\site-packages (from matplotlib) (1.3.1)\n",
      "Requirement already satisfied: cycler>=0.10 in c:\\users\\konstantinos\\appdata\\local\\programs\\python\\python311\\lib\\site-packages (from matplotlib) (0.12.1)\n",
      "Requirement already satisfied: fonttools>=4.22.0 in c:\\users\\konstantinos\\appdata\\local\\programs\\python\\python311\\lib\\site-packages (from matplotlib) (4.55.8)\n",
      "Requirement already satisfied: kiwisolver>=1.3.1 in c:\\users\\konstantinos\\appdata\\local\\programs\\python\\python311\\lib\\site-packages (from matplotlib) (1.4.8)\n",
      "Requirement already satisfied: packaging>=20.0 in c:\\users\\konstantinos\\appdata\\local\\programs\\python\\python311\\lib\\site-packages (from matplotlib) (24.2)\n",
      "Requirement already satisfied: pillow>=8 in c:\\users\\konstantinos\\appdata\\local\\programs\\python\\python311\\lib\\site-packages (from matplotlib) (11.1.0)\n",
      "Requirement already satisfied: pyparsing>=2.3.1 in c:\\users\\konstantinos\\appdata\\local\\programs\\python\\python311\\lib\\site-packages (from matplotlib) (3.2.1)\n",
      "Requirement already satisfied: python-dateutil>=2.7 in c:\\users\\konstantinos\\appdata\\local\\programs\\python\\python311\\lib\\site-packages (from matplotlib) (2.9.0.post0)\n",
      "Requirement already satisfied: pytz>=2020.1 in c:\\users\\konstantinos\\appdata\\local\\programs\\python\\python311\\lib\\site-packages (from pandas) (2025.1)\n",
      "Requirement already satisfied: tzdata>=2022.7 in c:\\users\\konstantinos\\appdata\\local\\programs\\python\\python311\\lib\\site-packages (from pandas) (2025.1)\n",
      "Requirement already satisfied: scipy>=1.6.0 in c:\\users\\konstantinos\\appdata\\local\\programs\\python\\python311\\lib\\site-packages (from scikit-learn) (1.15.1)\n",
      "Requirement already satisfied: joblib>=1.2.0 in c:\\users\\konstantinos\\appdata\\local\\programs\\python\\python311\\lib\\site-packages (from scikit-learn) (1.4.2)\n",
      "Requirement already satisfied: threadpoolctl>=3.1.0 in c:\\users\\konstantinos\\appdata\\local\\programs\\python\\python311\\lib\\site-packages (from scikit-learn) (3.5.0)\n",
      "Requirement already satisfied: six>=1.5 in c:\\users\\konstantinos\\appdata\\local\\programs\\python\\python311\\lib\\site-packages (from python-dateutil>=2.7->matplotlib) (1.17.0)\n",
      "Note: you may need to restart the kernel to use updated packages.\n"
     ]
    }
   ],
   "source": [
    "# importing the required modules\n",
    "#installs them if they are not yet there\n",
    "%pip install numpy matplotlib seaborn pandas scikit-learn\n",
    "import numpy as np\n",
    "import matplotlib.pyplot as plt\n",
    "# to get matplot figures render correctly in the notebook use:\n",
    "%matplotlib inline\n",
    "import pandas as pd\n",
    "import seaborn as sns"
   ]
  },
  {
   "cell_type": "markdown",
   "metadata": {
    "user_expressions": []
   },
   "source": [
    "### Let's start by thanking the creators of the dataset that we will be using:\n",
    "\n",
    "Cortez,Paulo, Cerdeira,A., Almeida,F., Matos,T., and Reis,J.. (2009). Wine Quality. UCI Machine Learning Repository. https://doi.org/10.24432/C56S3T."
   ]
  },
  {
   "cell_type": "markdown",
   "metadata": {
    "user_expressions": []
   },
   "source": [
    "## Loading and Inspecting the Data"
   ]
  },
  {
   "cell_type": "markdown",
   "metadata": {
    "user_expressions": []
   },
   "source": [
    "The first step in all machine learning problems is to load and inspect the data. First, let's load the data.   \n",
    "The datafile `winequality-red.csv` is a ;-separated file that contains data of 1599 scientific meaurments of red wine. The file contains 11 columns which we will use as the features to describe the quality of the wine (last column).\n",
    "Use the code snippet below to load the data into a Pandas object `data`:"
   ]
  },
  {
   "cell_type": "code",
   "execution_count": 224,
   "metadata": {
    "tags": [],
    "ExecuteTime": {
     "end_time": "2025-02-03T11:18:11.847618Z",
     "start_time": "2025-02-03T11:18:11.830024300Z"
    }
   },
   "outputs": [],
   "source": [
    "#PATH to the training data\n",
    "data = pd.read_csv('winequality-red.csv', sep=';')  # Makes Pandas objects"
   ]
  },
  {
   "cell_type": "markdown",
   "metadata": {
    "user_expressions": []
   },
   "source": [
    "\n",
    "Inspect the data by looking at the types of data in the collumns."
   ]
  },
  {
   "cell_type": "code",
   "execution_count": 225,
   "metadata": {
    "tags": [],
    "ExecuteTime": {
     "end_time": "2025-02-03T11:18:11.912591500Z",
     "start_time": "2025-02-03T11:18:11.849180300Z"
    }
   },
   "outputs": [
    {
     "name": "stdout",
     "output_type": "stream",
     "text": [
      "fixed acidity           float64\n",
      "volatile acidity        float64\n",
      "citric acid             float64\n",
      "residual sugar          float64\n",
      "chlorides               float64\n",
      "free sulfur dioxide     float64\n",
      "total sulfur dioxide    float64\n",
      "density                 float64\n",
      "pH                      float64\n",
      "sulphates               float64\n",
      "alcohol                 float64\n",
      "quality                   int64\n",
      "dtype: object\n",
      "shape = (1599, 12)\n"
     ]
    }
   ],
   "source": [
    "#This prints the names and the datatypes of the collumns:\n",
    "print(data.dtypes)\n",
    "#This prints how many measurements of wines are in our database:\n",
    "shape = data.shape\n",
    "print(f'shape = {shape}')"
   ]
  },
  {
   "cell_type": "markdown",
   "metadata": {
    "user_expressions": []
   },
   "source": [
    "What we see is that that the 11 features are real numerical values (floats of 64 bits) and the quality of the wine has been rated with an integer mark.\n",
    "\n",
    "Now, inspect the numbers by e.g. printing the shape of `data` and the first couple of rows (this is called the header)."
   ]
  },
  {
   "cell_type": "code",
   "execution_count": 226,
   "metadata": {
    "tags": [],
    "ExecuteTime": {
     "end_time": "2025-02-03T11:18:11.914591800Z",
     "start_time": "2025-02-03T11:18:11.868181100Z"
    }
   },
   "outputs": [
    {
     "name": "stdout",
     "output_type": "stream",
     "text": [
      "   fixed acidity  volatile acidity  citric acid  residual sugar  chlorides  \\\n",
      "0            7.4              0.70         0.00             1.9      0.076   \n",
      "1            7.8              0.88         0.00             2.6      0.098   \n",
      "2            7.8              0.76         0.04             2.3      0.092   \n",
      "3           11.2              0.28         0.56             1.9      0.075   \n",
      "4            7.4              0.70         0.00             1.9      0.076   \n",
      "\n",
      "   free sulfur dioxide  total sulfur dioxide  density    pH  sulphates  \\\n",
      "0                 11.0                  34.0   0.9978  3.51       0.56   \n",
      "1                 25.0                  67.0   0.9968  3.20       0.68   \n",
      "2                 15.0                  54.0   0.9970  3.26       0.65   \n",
      "3                 17.0                  60.0   0.9980  3.16       0.58   \n",
      "4                 11.0                  34.0   0.9978  3.51       0.56   \n",
      "\n",
      "   alcohol  quality  \n",
      "0      9.4        5  \n",
      "1      9.8        5  \n",
      "2      9.8        5  \n",
      "3      9.8        6  \n",
      "4      9.4        5  \n"
     ]
    }
   ],
   "source": [
    "# Let's take a look at the header of our dataset:\n",
    "print(data.head())"
   ]
  },
  {
   "cell_type": "code",
   "execution_count": 227,
   "metadata": {
    "tags": [],
    "ExecuteTime": {
     "end_time": "2025-02-03T11:18:11.916591500Z",
     "start_time": "2025-02-03T11:18:11.878607800Z"
    }
   },
   "outputs": [
    {
     "name": "stdout",
     "output_type": "stream",
     "text": [
      "       fixed acidity  volatile acidity  citric acid  residual sugar  \\\n",
      "count    1599.000000       1599.000000  1599.000000     1599.000000   \n",
      "mean        8.319637          0.527821     0.270976        2.538806   \n",
      "std         1.741096          0.179060     0.194801        1.409928   \n",
      "min         4.600000          0.120000     0.000000        0.900000   \n",
      "25%         7.100000          0.390000     0.090000        1.900000   \n",
      "50%         7.900000          0.520000     0.260000        2.200000   \n",
      "75%         9.200000          0.640000     0.420000        2.600000   \n",
      "max        15.900000          1.580000     1.000000       15.500000   \n",
      "\n",
      "         chlorides  free sulfur dioxide  total sulfur dioxide      density  \\\n",
      "count  1599.000000          1599.000000           1599.000000  1599.000000   \n",
      "mean      0.087467            15.874922             46.467792     0.996747   \n",
      "std       0.047065            10.460157             32.895324     0.001887   \n",
      "min       0.012000             1.000000              6.000000     0.990070   \n",
      "25%       0.070000             7.000000             22.000000     0.995600   \n",
      "50%       0.079000            14.000000             38.000000     0.996750   \n",
      "75%       0.090000            21.000000             62.000000     0.997835   \n",
      "max       0.611000            72.000000            289.000000     1.003690   \n",
      "\n",
      "                pH    sulphates      alcohol      quality  \n",
      "count  1599.000000  1599.000000  1599.000000  1599.000000  \n",
      "mean      3.311113     0.658149    10.422983     5.636023  \n",
      "std       0.154386     0.169507     1.065668     0.807569  \n",
      "min       2.740000     0.330000     8.400000     3.000000  \n",
      "25%       3.210000     0.550000     9.500000     5.000000  \n",
      "50%       3.310000     0.620000    10.200000     6.000000  \n",
      "75%       3.400000     0.730000    11.100000     6.000000  \n",
      "max       4.010000     2.000000    14.900000     8.000000  \n"
     ]
    }
   ],
   "source": [
    "# Some statistics about our data:\n",
    "print(data.describe())"
   ]
  },
  {
   "cell_type": "code",
   "execution_count": 228,
   "metadata": {
    "tags": [],
    "ExecuteTime": {
     "end_time": "2025-02-03T11:18:12.031243500Z",
     "start_time": "2025-02-03T11:18:11.902064300Z"
    }
   },
   "outputs": [
    {
     "data": {
      "text/plain": "<Figure size 640x480 with 1 Axes>",
      "image/png": "[encoded data removed]"
     },
     "metadata": {},
     "output_type": "display_data"
    }
   ],
   "source": [
    "var = 'quality'\n",
    "sns.histplot(data, x=var, binwidth=0.5, binrange=[0, 10]);"
   ]
  },
  {
   "cell_type": "markdown",
   "metadata": {
    "user_expressions": []
   },
   "source": [
    "## Research question:"
   ]
  },
  {
   "cell_type": "markdown",
   "metadata": {
    "user_expressions": []
   },
   "source": [
    "In this notebook we will not use all features. Our research question is:\n",
    "__Is the quality of the wine related (correlated with) to the alcohol content?__\n",
    "\n",
    "It is always good to create a plot to have a visulation of the data. In the next block of code plot the data, where you plot the alcohol conent the x-axis and the wine's quality on the y-axis."
   ]
  },
  {
   "cell_type": "code",
   "execution_count": 229,
   "metadata": {
    "tags": [],
    "ExecuteTime": {
     "end_time": "2025-02-03T11:18:12.165269700Z",
     "start_time": "2025-02-03T11:18:12.041857700Z"
    }
   },
   "outputs": [
    {
     "data": {
      "text/plain": "Text(0.5, 1.0, 'Wine quality vs alcohol %')"
     },
     "execution_count": 229,
     "metadata": {},
     "output_type": "execute_result"
    },
    {
     "data": {
      "text/plain": "<Figure size 640x480 with 1 Axes>",
      "image/png": "[encoded data removed]"
     },
     "metadata": {},
     "output_type": "display_data"
    }
   ],
   "source": [
    "# Select the approriate collumns from our data structure:\n",
    "ydata = data['quality']\n",
    "xdata = data['alcohol']\n",
    "#Plot them:\n",
    "plt.scatter(xdata, ydata)\n",
    "plt.ylabel('Wine Quality')\n",
    "plt.xlabel('Alcohol')\n",
    "plt.title('Wine quality vs alcohol %')"
   ]
  },
  {
   "cell_type": "markdown",
   "metadata": {
    "user_expressions": []
   },
   "source": [
    "## Defining the model"
   ]
  },
  {
   "cell_type": "markdown",
   "metadata": {
    "user_expressions": []
   },
   "source": [
    "This notebook is about linear regression. The corresponding model is given by (lecture notes eq. 2.6):\n",
    "$$  \\mathbf{\\hat{y}} = \\mathbf{X} \\boldsymbol{\\theta}    $$ \n",
    "with $\\mathbf{X}$ the feature matrix , $\\mathbf{\\hat{y}}$ the predicted label vector and $\\boldsymbol{\\theta}$ the weight vector. \n",
    "\n",
    "The weight vector is found by minimizing the *loss* $L$. The loss is given by (lecture notes eq. 2.9):\n",
    "$$  L = \\frac{1}{M} \\frac{1}{2} \\left \\| \\mathbf{X} \\boldsymbol{\\theta}   - \\textbf y \\right \\|^2 $$\n"
   ]
  },
  {
   "cell_type": "markdown",
   "metadata": {
    "user_expressions": []
   },
   "source": [
    "#### Create the feature matrix and label vector"
   ]
  },
  {
   "cell_type": "markdown",
   "metadata": {
    "user_expressions": []
   },
   "source": [
    "The feature matrix is represented by a 2D numpy array `X` composed of a column filled with ones (the bias) and column(s) with the feature(s). Also we need to define the label vector y as a 2D numpy array `y`."
   ]
  },
  {
   "cell_type": "code",
   "execution_count": 230,
   "metadata": {
    "tags": [],
    "ExecuteTime": {
     "end_time": "2025-02-03T11:18:12.179782500Z",
     "start_time": "2025-02-03T11:18:12.167267500Z"
    }
   },
   "outputs": [
    {
     "name": "stdout",
     "output_type": "stream",
     "text": [
      "(1599, 1) (1599, 2) (2, 1)\n"
     ]
    }
   ],
   "source": [
    "# the number of samples M\n",
    "M = len(data['alcohol'])\n",
    "# the number of features N (excluding the bias)\n",
    "N = 1\n",
    "# define the feature matrix as a ( M x N+1 ) ndarray\n",
    "X = np.column_stack(\n",
    "    (np.ones(M), data['alcohol']))  #this is a nice numpy possibility: np.column_stack((np.ones(M), xdata))\n",
    "# define the label vector as a (M x 1) ndarray\n",
    "y = np.array(data['quality']).reshape(-1, 1)\n",
    "# define some intital guess for the theta vector as a (N+1 x 1) ndarray\n",
    "theta = np.random.rand(N + 1, 1)\n",
    "print(y.shape, X.shape, theta.shape)  # Should result (1599, 1) (1599, 2) (2,1)|\n",
    "#If you later doubt about the quality of the fit, try to repeat from the top but setup explict linear data:\n",
    "# y[:,0]=xdata*2+1"
   ]
  },
  {
   "cell_type": "markdown",
   "metadata": {
    "user_expressions": []
   },
   "source": [
    "#### Implement the loss function\n",
    "Next, define a function that computes the loss given the feature matrix, the label vector and the weight vector.\n",
    "\n",
    "| function                    | description                                                                                                     |\n",
    "|-----------------------------|-----------------------------------------------------------------------------------------------------------------|\n",
    "| `compute_loss(X, y, theta)` | This function takes the feature matrix `X`, label vector `y` and the weight vector `theta` and returns the loss |\n"
   ]
  },
  {
   "cell_type": "code",
   "execution_count": 231,
   "metadata": {
    "tags": [],
    "ExecuteTime": {
     "end_time": "2025-02-03T11:18:12.179782500Z",
     "start_time": "2025-02-03T11:18:12.175108700Z"
    }
   },
   "outputs": [],
   "source": [
    "def compute_loss(X, y, theta):\n",
    "    \"\"\"\n",
    "    computes the loss of a linear regression model\n",
    "\n",
    "    Parameters\n",
    "    ----------\n",
    "    X : (M x N+1) ndarray (with M the number of samples and N the number of features excluding the bias)\n",
    "        The feature matrix including the bias in the first column\n",
    "    y : (M x 1) ndarray\n",
    "        label vector\n",
    "    theta : (N+1 x 1) ndarray\n",
    "        The weight vector inlcuding the bias\n",
    "\n",
    "    Returns\n",
    "    -------\n",
    "    loss : float\n",
    "        The loss\n",
    "\n",
    "    \"\"\"\n",
    "\n",
    "    M = len(y)\n",
    "\n",
    "    loss = 1 / M * 1 / 2 * np.sum(np.square(X @ theta - y))\n",
    "    return loss"
   ]
  },
  {
   "cell_type": "code",
   "execution_count": 232,
   "metadata": {
    "tags": [],
    "ExecuteTime": {
     "end_time": "2025-02-03T11:18:12.273007900Z",
     "start_time": "2025-02-03T11:18:12.183793900Z"
    }
   },
   "outputs": [
    {
     "name": "stdout",
     "output_type": "stream",
     "text": [
      "28202.85075594123\n"
     ]
    }
   ],
   "source": [
    "# test the function with some value for theta\n",
    "theta = np.ones(N + 1)\n",
    "loss = compute_loss(X, y, theta)\n",
    "print(loss)\n"
   ]
  },
  {
   "cell_type": "markdown",
   "metadata": {
    "user_expressions": []
   },
   "source": [
    "## Train the Model"
   ]
  },
  {
   "cell_type": "markdown",
   "metadata": {
    "user_expressions": []
   },
   "source": [
    "The next step is to train the model. We use the gradient descent algortihm for this. The weight vector is updated according to:\n",
    "$$  \\boldsymbol{\\theta} \\rightarrow \\boldsymbol{\\theta} - \\eta \\frac{\\mathrm{d} L}{\\mathrm{d} \\boldsymbol{\\theta}} $$\n",
    "where $\\eta$ is a *hyperparameter* that allows to tune the rate of descent, and the gradient defined as (lecture notes eq. 2.10):\n",
    "\n",
    "$$ \\frac{\\mathrm{d} L}{\\mathrm{d} \\boldsymbol{\\theta}}  = \\frac{1}{M} \\mathbf{X}^T  \\left (  \\mathbf{X}  \\boldsymbol{\\theta} - \\textbf y \\right )     $$\n",
    "\n",
    "Therefore we need to implement the following functions:\n",
    "\n",
    "| function                             | description                                                                                                                                                                                                        |\n",
    "|--------------------------------------|--------------------------------------------------------------------------------------------------------------------------------------------------------------------------------------------------------------------|\n",
    "| `gradient(X, y, theta)`              | This function takes the feature matrix `X`, label vector `y` and the weight vector `theta` and returns the gradient of the loss w.r.t. the weight(s)                                                               |\n",
    "| `train(X, y, theta, eta, num_iters)` | This function takes the feature matrix `X`, label vector `y`, the weight vector `theta`, hyperparameter `eta` and the number of iteration steps `num_iters`, and returns the weight vector the minimises the loss. |"
   ]
  },
  {
   "cell_type": "code",
   "execution_count": 233,
   "metadata": {
    "tags": [],
    "ExecuteTime": {
     "end_time": "2025-02-03T11:18:12.273007900Z",
     "start_time": "2025-02-03T11:18:12.209879700Z"
    }
   },
   "outputs": [],
   "source": [
    "def gradient(X, y, theta):\n",
    "    \"\"\"\n",
    "    computes the gradient of a linear regression model\n",
    "\n",
    "    Parameters\n",
    "    ----------\n",
    "    X : (M x N+1) ndarray (with M the number of samples and N the number of features excluding the bias)\n",
    "        The feature matrix including the bias in the first column\n",
    "    y : (M x 1) ndarray\n",
    "        label vector\n",
    "    theta : (N+1 x 1) ndarray\n",
    "        The weight vector inlcuding the bias\n",
    "\n",
    "    Returns\n",
    "    -------\n",
    "    grad : (N+1 x 1) ndarray\n",
    "        The gradient of the loss w.r.t the weight vector theta\n",
    "\n",
    "    \"\"\"\n",
    "\n",
    "    M = len(y)\n",
    "    grad = 1 / M * X.T @ (X @ theta - y)\n",
    "\n",
    "    return grad"
   ]
  },
  {
   "cell_type": "code",
   "execution_count": 234,
   "metadata": {
    "tags": [],
    "ExecuteTime": {
     "end_time": "2025-02-03T11:18:12.273991100Z",
     "start_time": "2025-02-03T11:18:12.213385100Z"
    }
   },
   "outputs": [
    {
     "name": "stdout",
     "output_type": "stream",
     "text": [
      "[[ 4.76397749  5.16397749  5.16397749 ...  6.36397749  5.56397749\n",
      "   6.36397749]\n",
      " [49.24532416 53.41451741 53.41451741 ... 65.92209714 57.58371065\n",
      "  65.92209714]]\n"
     ]
    }
   ],
   "source": [
    "# test the function for some value of theta\n",
    "theta = np.ones(N + 1)\n",
    "grad = gradient(X, y, theta)\n",
    "print(grad)"
   ]
  },
  {
   "cell_type": "markdown",
   "metadata": {
    "user_expressions": []
   },
   "source": [
    "Next, define the function `train()` that implements the gradient descent algorithm."
   ]
  },
  {
   "cell_type": "code",
   "execution_count": 235,
   "metadata": {
    "tags": [],
    "ExecuteTime": {
     "end_time": "2025-02-03T11:18:12.285458900Z",
     "start_time": "2025-02-03T11:18:12.229787500Z"
    }
   },
   "outputs": [],
   "source": [
    "def train(X, y, theta, eta=0.01, num_iters=10000):\n",
    "    \"\"\"\n",
    "    Implements the gradient descent algorithm for a linear regression model\n",
    "\n",
    "    Parameters\n",
    "    ----------\n",
    "    X : (M x N+1) ndarray (with M the number of samples and N the number of features excluding the bias)\n",
    "        The feature matrix including the bias in the first column\n",
    "    y : (M x 1) ndarray\n",
    "        label vector\n",
    "    theta : (N+1 x 1) ndarray\n",
    "        The weight vector inlcuding the bias\n",
    "    eta : float, optional\n",
    "        The rate. The default is 0.01.\n",
    "    num_iters : int, optional\n",
    "        Number of iterations that is performed. The default is 5500.\n",
    "\n",
    "    Returns\n",
    "    -------\n",
    "    theta : (N+1 x 1) ndarray\n",
    "        The optimised weight vector    \n",
    "    loss : (num_iters,) ndarray\n",
    "        The loss at each iteration\n",
    "    \"\"\"\n",
    "\n",
    "    loss = np.zeros(num_iters)\n",
    "\n",
    "    for ii in range(num_iters):\n",
    "        theta = theta - eta * gradient(X, y, theta)\n",
    "        loss[ii] = compute_loss(X, y, theta)\n",
    "\n",
    "    return (theta, loss)"
   ]
  },
  {
   "cell_type": "markdown",
   "metadata": {
    "user_expressions": []
   },
   "source": [
    "We can now train the model."
   ]
  },
  {
   "cell_type": "code",
   "execution_count": 236,
   "metadata": {
    "tags": [],
    "ExecuteTime": {
     "end_time": "2025-02-03T11:18:12.530012200Z",
     "start_time": "2025-02-03T11:18:12.237307700Z"
    }
   },
   "outputs": [
    {
     "name": "stdout",
     "output_type": "stream",
     "text": [
      "weigths: [[1.40311839]\n",
      " [0.40564867]]\n"
     ]
    }
   ],
   "source": [
    "# intialize theta to some value\n",
    "theta = np.random.rand(N + 1, 1)\n",
    "# train the model\n",
    "theta, loss = train(X, y, theta, eta=0.01)\n",
    "# print the computed weight vector\n",
    "print(f'weigths: {theta}')"
   ]
  },
  {
   "cell_type": "markdown",
   "metadata": {
    "user_expressions": []
   },
   "source": [
    "First have a (critical) look at how the loss changed during the training by plotting the loss versus the iteration number:"
   ]
  },
  {
   "cell_type": "code",
   "execution_count": 237,
   "metadata": {
    "tags": [],
    "ExecuteTime": {
     "end_time": "2025-02-03T11:18:12.644519300Z",
     "start_time": "2025-02-03T11:18:12.533051700Z"
    }
   },
   "outputs": [
    {
     "data": {
      "text/plain": "Text(0, 0.5, 'Loss')"
     },
     "execution_count": 237,
     "metadata": {},
     "output_type": "execute_result"
    },
    {
     "data": {
      "text/plain": "<Figure size 640x480 with 1 Axes>",
      "image/png": "[encoded data removed]"
     },
     "metadata": {},
     "output_type": "display_data"
    }
   ],
   "source": [
    "# create a plot of the loss versus the interation number\n",
    "\n",
    "plt.plot(loss)\n",
    "plt.xlabel('iteration')\n",
    "plt.ylabel('Loss')"
   ]
  },
  {
   "cell_type": "markdown",
   "metadata": {
    "user_expressions": []
   },
   "source": [
    "## Evaluate the model"
   ]
  },
  {
   "cell_type": "markdown",
   "metadata": {
    "user_expressions": []
   },
   "source": [
    "To evaluate the model, we need a function `predict(X, theta)` that predicts the label `y` given some new values of the features `X`. Implement this function below."
   ]
  },
  {
   "cell_type": "code",
   "execution_count": 238,
   "metadata": {
    "tags": [],
    "ExecuteTime": {
     "end_time": "2025-02-03T11:18:12.644519300Z",
     "start_time": "2025-02-03T11:18:12.639754Z"
    }
   },
   "outputs": [],
   "source": [
    "def predict(X, theta):\n",
    "    \"\"\"\n",
    "    Predicts the label y given features X for a linear regression model with weights theta\n",
    "\n",
    "    Parameters\n",
    "    ----------\n",
    "    X : (M x N+1) ndarray (with M the number of samples and N the number of features excluding the bias)\n",
    "        The feature matrix including the bias in the first column \n",
    "    theta : (N+1 x 1) ndarray\n",
    "        The weight vector inlcuding the bias\n",
    "\n",
    "    Returns\n",
    "    -------\n",
    "    y_pred : (M x 1) ndarray\n",
    "        The predicted labels    \n",
    "    \"\"\"\n",
    "\n",
    "    y_pred = X @ theta\n",
    "\n",
    "    return y_pred"
   ]
  },
  {
   "cell_type": "markdown",
   "metadata": {
    "user_expressions": []
   },
   "source": [
    "Test the function by plotting the original data, but now including a line-plot of the quality prediction versus alcohol levels baed on 50 predictions in the range from 0 to 18.\n"
   ]
  },
  {
   "cell_type": "code",
   "execution_count": 239,
   "metadata": {
    "tags": [],
    "ExecuteTime": {
     "end_time": "2025-02-03T11:18:12.817806400Z",
     "start_time": "2025-02-03T11:18:12.646518100Z"
    }
   },
   "outputs": [
    {
     "data": {
      "text/plain": "Text(0.5, 1.0, 'Wine quality vs alcohol %')"
     },
     "execution_count": 239,
     "metadata": {},
     "output_type": "execute_result"
    },
    {
     "data": {
      "text/plain": "<Figure size 640x480 with 1 Axes>",
      "image/png": "[encoded data removed]"
     },
     "metadata": {},
     "output_type": "display_data"
    }
   ],
   "source": [
    "# create a feature matrix X\n",
    "NUM_SAMPLES = 50\n",
    "bias = np.ones(NUM_SAMPLES)\n",
    "features = np.linspace(0, 18, num=NUM_SAMPLES)\n",
    "X_pred = X[1:NUM_SAMPLES]\n",
    "# predict the corresponding labels\n",
    "y_pred = predict(X_pred, theta)\n",
    "# plot the original data as a scatter plot and the fitted model by a red line\n",
    "plt.scatter(xdata, ydata)\n",
    "plt.plot(X_pred[:, 1], y_pred, \"r\")\n",
    "plt.ylabel('Wine Quality')\n",
    "plt.xlabel('Alcohol')\n",
    "plt.title('Wine quality vs alcohol %')"
   ]
  },
  {
   "cell_type": "markdown",
   "metadata": {
    "user_expressions": []
   },
   "source": [
    "## Minimizing the loss by direct computation\n",
    "Rather than using the gradient descent method, linear regression allows to directly compute the weight that minimizes the loss. The expression is given by (see reader eq. 2.14):\n",
    "\n",
    "$$ \\boldsymbol{\\theta}  = \\left ( \\mathbf{X}^T  \\mathbf{X} \\right )^{-1} \\mathbf{X}^T \\textbf y $$\n",
    "\n",
    "The term $\\left ( \\mathbf{X}^T  \\mathbf{X} \\right )^{-1} \\mathbf{X}^T$ is the so-called pseude-inverse of $\\mathbf{X}$. \n",
    "\n",
    "In the cell below you define a function `solve(X, y)` that applies this equation to compute the weights.\n",
    "\n",
    "***TIP: computing the pseudo-inverse can be numerically instable resulting in high nummerical errors. Therefore you rather use the build-in numpy function `np.linalg.pinv(X.T)` to compute the pseudo-inverse rather than computing it following the eqaution above.***\n"
   ]
  },
  {
   "cell_type": "code",
   "execution_count": 240,
   "metadata": {
    "tags": [],
    "ExecuteTime": {
     "end_time": "2025-02-03T11:18:12.817806400Z",
     "start_time": "2025-02-03T11:18:12.811301400Z"
    }
   },
   "outputs": [],
   "source": [
    "def solve(X, y):\n",
    "    \"\"\"\n",
    "    Computes the weights by direct computation \n",
    "\n",
    "    Parameters\n",
    "    ----------\n",
    "    X : (M x N+1) ndarray (with M the number of samples and N the number of features excluding the bias)\n",
    "        The feature matrix including the bias in the first column\n",
    "    y : (M x 1) ndarray\n",
    "        label vector\n",
    "    \n",
    "    Returns\n",
    "    -------\n",
    "    theta : (N+1 x 1) ndarray\n",
    "        The optimised weight vector    \n",
    "    \"\"\"\n",
    "    # theta = np.linalg.pinv(X.T)@y this command causes an error\n",
    "    theta = np.linalg.pinv(X) @ y\n",
    "    return theta"
   ]
  },
  {
   "cell_type": "code",
   "execution_count": 241,
   "metadata": {
    "tags": [],
    "ExecuteTime": {
     "end_time": "2025-02-03T11:18:12.833906200Z",
     "start_time": "2025-02-03T11:18:12.815807100Z"
    }
   },
   "outputs": [
    {
     "name": "stdout",
     "output_type": "stream",
     "text": [
      "[[1.87497489]\n",
      " [0.36084177]]\n",
      "[[ 0.4718565 ]\n",
      " [-0.04480691]]\n",
      "Loss of Gradient descent: 0.2531429841503644 \n",
      " Loss of solver: 0.25199201283572853\n"
     ]
    }
   ],
   "source": [
    "# use the function solve() to compute weights and compare to \n",
    "# the results obtained by the gradient descent method\n",
    "old_theta = theta\n",
    "theta = solve(X, y)\n",
    "print(theta)\n",
    "print(theta - old_theta)\n",
    "print(f\"Loss of Gradient descent: {compute_loss(X, y, old_theta)} \\n Loss of solver: {compute_loss(X, y, theta)}\")"
   ]
  },
  {
   "cell_type": "markdown",
   "metadata": {
    "user_expressions": []
   },
   "source": [
    "## Linear regression of \"non-linear\" data"
   ]
  },
  {
   "cell_type": "markdown",
   "metadata": {
    "user_expressions": []
   },
   "source": [
    "We have observed a weak linear relation between the label (quality) and the feature (alcohol). We can possibily improve our regression model by adding 'manufactured' features to the feature matrix. One way to do this is to add polynomial features. If we have only one orginal feature ($x_1$), then the polynomials that can be added as feature are:\n",
    "\n",
    "$$ 1, x_1, x_1^2, x_1^3, x_1^4, ... \\text{ etc}$$\n",
    "\n",
    "Let do this for the quality versus alcohol model."
   ]
  },
  {
   "cell_type": "markdown",
   "metadata": {
    "user_expressions": []
   },
   "source": [
    "We will try to fit this data using polynomials. To this end we need to build a feature matrix `X` that contains the polynomials of the feature up to some degree.\n",
    "\n",
    "In the cell below you define a function `polynomials(x, degree)` that computes the feature matrix `X` upto the specified degree."
   ]
  },
  {
   "cell_type": "code",
   "execution_count": 242,
   "metadata": {
    "tags": [],
    "ExecuteTime": {
     "end_time": "2025-02-03T11:18:12.833906200Z",
     "start_time": "2025-02-03T11:18:12.824933400Z"
    }
   },
   "outputs": [],
   "source": [
    "# write a function that computes the feature matrix X\n",
    "\n",
    "def polynomials(x, degree):\n",
    "    \"\"\"\n",
    "    Computes the feature matrix X composed of all polynomials of x upto order degree\n",
    "    and includes the bias\n",
    "    \n",
    "    Parameters\n",
    "    ----------\n",
    "    x : 1D ndarray of length M (with M the number of samples) \n",
    "        features  \n",
    "    degree : integer >= 0\n",
    "        the highest poly degree that is included\n",
    "\n",
    "    Returns\n",
    "    -------\n",
    "    X : (  M, degree + 1 ) ndarray\n",
    "        The feature matrix    \n",
    "    \"\"\"\n",
    "    X = np.ones(len(x))\n",
    "    for deg in range(1, degree + 1):\n",
    "        X = np.column_stack((X, x ** deg))\n",
    "    return X\n"
   ]
  },
  {
   "cell_type": "code",
   "execution_count": 243,
   "metadata": {
    "tags": [],
    "ExecuteTime": {
     "end_time": "2025-02-03T11:18:12.839992900Z",
     "start_time": "2025-02-03T11:18:12.831342500Z"
    }
   },
   "outputs": [
    {
     "name": "stdout",
     "output_type": "stream",
     "text": [
      "[[   1.    0.    0.    0.]\n",
      " [   1.    1.    1.    1.]\n",
      " [   1.    2.    4.    8.]\n",
      " [   1.    3.    9.   27.]\n",
      " [   1.    4.   16.   64.]\n",
      " [   1.    5.   25.  125.]\n",
      " [   1.    6.   36.  216.]\n",
      " [   1.    7.   49.  343.]\n",
      " [   1.    8.   64.  512.]\n",
      " [   1.    9.   81.  729.]\n",
      " [   1.   10.  100. 1000.]]\n"
     ]
    }
   ],
   "source": [
    "# test the function by creating a feature matrix from the data up to degree 3\n",
    "X = polynomials(np.linspace(0, 10, 11), 3)\n",
    "print(X)"
   ]
  },
  {
   "cell_type": "markdown",
   "metadata": {
    "user_expressions": []
   },
   "source": [
    "The next step is to fit the data (use the function `solve()`). Trys different degrees."
   ]
  },
  {
   "cell_type": "code",
   "execution_count": 244,
   "metadata": {
    "tags": [],
    "ExecuteTime": {
     "end_time": "2025-02-03T11:18:12.959980Z",
     "start_time": "2025-02-03T11:18:12.838419400Z"
    }
   },
   "outputs": [
    {
     "data": {
      "text/plain": "[<matplotlib.lines.Line2D at 0x1c9f723bfd0>]"
     },
     "execution_count": 244,
     "metadata": {},
     "output_type": "execute_result"
    },
    {
     "data": {
      "text/plain": "<Figure size 640x480 with 1 Axes>",
      "image/png": "[encoded data removed]"
     },
     "metadata": {},
     "output_type": "display_data"
    }
   ],
   "source": [
    "# perform a fit and plot the result\n",
    "\n",
    "# prepare X \n",
    "degree = 3\n",
    "X = polynomials(xdata, degree)\n",
    "\n",
    "# compute the weights\n",
    "theta = solve(X, y)\n",
    "\n",
    "# Create a feature matrix X for the prediction\n",
    "NUM_SAMPLES = 1000\n",
    "features = np.linspace(0, 15, num=NUM_SAMPLES)\n",
    "X_pred = polynomials(features, degree)\n",
    "\n",
    "# predict the corresponding labels\n",
    "y_pred = predict(X_pred, theta)\n",
    "\n",
    "# plot the original data and the predictions\n",
    "plt.scatter(xdata, ydata, label='data')\n",
    "plt.plot(features, y_pred, 'r', label='model')\n"
   ]
  },
  {
   "cell_type": "markdown",
   "metadata": {
    "user_expressions": []
   },
   "source": [
    "As you have seen, the data is *under-fitted* if the number of degrees is too low. If the number of degrees is too high you will have *over-fitting*. The challenge is to have a good trade-off. \n",
    "\n",
    "In the next cell you will make a plot of the loss (y-axis) against the polynomial degree (x-axis) (degrees between 1 and 12)."
   ]
  },
  {
   "cell_type": "code",
   "execution_count": 245,
   "metadata": {
    "tags": [],
    "ExecuteTime": {
     "end_time": "2025-02-03T11:18:13.080933100Z",
     "start_time": "2025-02-03T11:18:12.961988100Z"
    }
   },
   "outputs": [
    {
     "data": {
      "text/plain": "Text(0, 0.5, 'loss')"
     },
     "execution_count": 245,
     "metadata": {},
     "output_type": "execute_result"
    },
    {
     "data": {
      "text/plain": "<Figure size 640x480 with 1 Axes>",
      "image/png": "[encoded data removed]"
     },
     "metadata": {},
     "output_type": "display_data"
    }
   ],
   "source": [
    "# make a plot of the loss as function of the polynomial degree\n",
    "\n",
    "degrees = list(range(1, 12))\n",
    "losses = []\n",
    "for deg in degrees:\n",
    "    # prepare the data\n",
    "    X = polynomials(xdata, deg)\n",
    "\n",
    "    # solve to get the weights\n",
    "    theta = solve(X, y)\n",
    "\n",
    "    # compute the loss\n",
    "    loss = compute_loss(X, y, theta)\n",
    "    losses.append(loss)\n",
    "\n",
    "plt.plot(degrees, losses)\n",
    "plt.xlabel('poly degree')\n",
    "plt.ylabel('loss')"
   ]
  },
  {
   "cell_type": "markdown",
   "metadata": {
    "user_expressions": []
   },
   "source": [
    "The curve above suggest to use a high degree in order to make the losses as small as possible. However most likely that solution will not generalize well to another sample of the data (*over-fitting*). So next, you will use a test data set to check how well the model performs. The procedure is as follows:\n",
    "- split your dataset in a train and a test set\n",
    "- use the train data set to fit the model\n",
    "- use the model to compute the loss of both train and test data sets\n",
    "- repeat for different degrees\n",
    "- finally make a plot of the loss for both train and test data sets as function of the degree\n",
    "- inspect the plot and determine the degree that gives the best results"
   ]
  },
  {
   "cell_type": "code",
   "execution_count": 246,
   "metadata": {
    "tags": [],
    "ExecuteTime": {
     "end_time": "2025-02-03T11:18:13.208608700Z",
     "start_time": "2025-02-03T11:18:13.079842100Z"
    }
   },
   "outputs": [
    {
     "data": {
      "text/plain": "Text(0, 0.5, 'loss')"
     },
     "execution_count": 246,
     "metadata": {},
     "output_type": "execute_result"
    },
    {
     "data": {
      "text/plain": "<Figure size 640x480 with 1 Axes>",
      "image/png": "[encoded data removed]"
     },
     "metadata": {},
     "output_type": "display_data"
    }
   ],
   "source": [
    "# carry out the procedure described above\n",
    "\n",
    "# Split data in train (70%) & test (30%) sets:\n",
    "M = len(xdata)\n",
    "split_idx = int(np.floor(M*0.7))\n",
    "x_train = xdata[:split_idx]\n",
    "y_train = ydata[:split_idx]\n",
    "\n",
    "x_test = xdata[split_idx:]\n",
    "y_test = ydata[split_idx:]\n",
    "\n",
    "# sets up models from degree 1 to 13.\n",
    "degrees = list(range(1, 13))\n",
    "losses_train = []\n",
    "losses_test = []\n",
    "\n",
    "for deg in degrees:\n",
    "    # prepare the data train set\n",
    "    X = polynomials(x_train, deg)\n",
    "    y = y_train\n",
    "\n",
    "    # solve to get the weights\n",
    "    theta = solve(X, y)\n",
    "\n",
    "    # compute loss and store\n",
    "    loss = compute_loss(X, y, theta)\n",
    "    losses_train.append(loss)\n",
    "\n",
    "    # prepare the data test set\n",
    "    X = polynomials(x_test, deg)\n",
    "    y = y_test\n",
    "\n",
    "    # compute loss and store\n",
    "    loss = compute_loss(X, y, theta)\n",
    "    losses_test.append(loss)\n",
    "\n",
    "#Convert list to numpy arrays:\n",
    "ltr = np.asarray(losses_train, dtype=np.float32)\n",
    "lte = np.asarray(losses_test, dtype=np.float32)\n",
    "diff = abs(ltr - lte) #Why abs? \n",
    "\n",
    "#plt.plot(degrees, losses_train, label='train')\n",
    "#plt.plot(degrees, losses_test, label='test')\n",
    "plt.plot(degrees, diff, label='diff')\n",
    "plt.legend()\n",
    "plt.xlabel('polynomial degree')\n",
    "plt.ylabel('loss')\n",
    "#plt.ylim(-0.5, 0.5)\n",
    "\n"
   ]
  },
  {
   "cell_type": "markdown",
   "metadata": {
    "user_expressions": []
   },
   "source": [
    "## Regularisation\n",
    "The problem with the higher order polynomials in the example above can be reduced by using regularisation. The weights can be computed directly using (reader eq. 2.25):\n",
    "\n",
    "$$ \\boldsymbol\\theta = (\\mathbf{X}^T\\mathbf{X}+\\lambda  M \\mathbf{I})^{-1}\\mathbf{X}^T  \\textbf{y} $$\n",
    "\n",
    "Implement the function `solve_reg(X, y, labda)` in the cell below. (I know it is spelled lambda, but python has this name already claimed...) Note that you cannot use the `np.linalg.pinv()` function. However this is not a problem in this case as the addition of the regularisation term causes the problem to be more numerically stable. "
   ]
  },
  {
   "cell_type": "code",
   "execution_count": 247,
   "metadata": {
    "tags": [],
    "ExecuteTime": {
     "end_time": "2025-02-03T11:18:13.284824900Z",
     "start_time": "2025-02-03T11:18:13.210115600Z"
    }
   },
   "outputs": [],
   "source": [
    "def solve_reg(X, y, labda):\n",
    "    \"\"\"\n",
    "    Computes the weights by direct computation \n",
    "\n",
    "    Parameters\n",
    "    ----------\n",
    "    X : (M x N+1) ndarray (with M the number of samples and N the number of features excluding the bias)\n",
    "        The feature matrix including the bias in the first column\n",
    "    y : (M x 1) ndarray\n",
    "        label vector\n",
    "    labda: float\n",
    "        regularisation hyperparameter\n",
    "    \n",
    "    Returns\n",
    "    -------\n",
    "    theta : (N+1 x 1) ndarray\n",
    "        The optimised weight vector    \n",
    "    \"\"\"\n",
    "    M = len(y)\n",
    "    I = np.identity(X.shape[1], dtype=float)\n",
    "    I[0, 0] = 0.  # to exclude the bias from the regularisation\n",
    "    theta = np.linalg.inv(X.T@X + labda*M*I)@X.T@y\n",
    "    return theta\n"
   ]
  },
  {
   "cell_type": "code",
   "execution_count": 254,
   "metadata": {
    "tags": [],
    "ExecuteTime": {
     "end_time": "2025-02-03T11:20:29.160625400Z",
     "start_time": "2025-02-03T11:20:28.998804900Z"
    }
   },
   "outputs": [
    {
     "data": {
      "text/plain": "<matplotlib.legend.Legend at 0x1c9f8760e10>"
     },
     "execution_count": 254,
     "metadata": {},
     "output_type": "execute_result"
    },
    {
     "data": {
      "text/plain": "<Figure size 640x480 with 1 Axes>",
      "image/png": "[encoded data removed]"
     },
     "metadata": {},
     "output_type": "display_data"
    }
   ],
   "source": [
    "# perform a fit and plot the result\n",
    "# include results for a few different labda's\n",
    "\n",
    "degree = 2\n",
    "\n",
    "for labda in [0, 0.0001, 0.001, 0.1, 1]:\n",
    "\n",
    "    # prepare X and y of your training set\n",
    "    X = polynomials(x_train, degree)\n",
    "    y = y_train\n",
    "\n",
    "    # compute the weights\n",
    "    if labda == 0:\n",
    "        theta = solve(X, y)\n",
    "    else:\n",
    "        theta = solve_reg(X, y, labda)\n",
    "\n",
    "    # Create a feature matrix X for the prediction\n",
    "    NUM_SAMPLES = 100\n",
    "    features = np.linspace(0, 15, num=NUM_SAMPLES)\n",
    "    X_pred = polynomials(features, degree)\n",
    "\n",
    "    # predict the corresponding labels\n",
    "    y_pred = predict(X_pred, theta)\n",
    "\n",
    "    # plot the predictions\n",
    "    plt.plot(features, y_pred, label=f'labda={labda}')\n",
    "\n",
    "# plot the original training data as a scatter plot \n",
    "plt.scatter(xdata, ydata)\n",
    "plt.legend()"
   ]
  },
  {
   "cell_type": "markdown",
   "metadata": {
    "user_expressions": []
   },
   "source": [
    "Finally make a new plot of the loss versus the degree of both train and test data set, but now for a proper choice of the regularisation hyperparameter labda."
   ]
  },
  {
   "cell_type": "code",
   "execution_count": 255,
   "metadata": {
    "tags": [],
    "ExecuteTime": {
     "end_time": "2025-02-03T11:21:57.112465400Z",
     "start_time": "2025-02-03T11:21:56.970559200Z"
    }
   },
   "outputs": [
    {
     "data": {
      "text/plain": "(0.0, 0.1)"
     },
     "execution_count": 255,
     "metadata": {},
     "output_type": "execute_result"
    },
    {
     "data": {
      "text/plain": "<Figure size 640x480 with 1 Axes>",
      "image/png": "[encoded data removed]"
     },
     "metadata": {},
     "output_type": "display_data"
    }
   ],
   "source": [
    "# create a plot of the loss versus degree of both train and test data set\n",
    "\n",
    "degrees = list(range(1, 13))\n",
    "labda = 0.0001\n",
    "losses_train = []\n",
    "losses_test = []\n",
    "\n",
    "for deg in degrees:\n",
    "    # prepare the data train set\n",
    "    X = polynomials(x_train, deg)\n",
    "    y = y_train\n",
    "\n",
    "    # solve to get the weights\n",
    "    theta = solve(X, y)\n",
    "\n",
    "    # compute loss and store\n",
    "    loss = compute_loss(X, y, theta)\n",
    "    losses_train.append(loss)\n",
    "\n",
    "    # prepare the data test set\n",
    "    X = polynomials(x_test, deg)\n",
    "    y = y_test\n",
    "\n",
    "    # compute loss and store\n",
    "    loss = compute_loss(X, y, theta)\n",
    "    losses_test.append(loss)\n",
    "\n",
    "ltr = np.asarray(losses_train, dtype=np.float32)\n",
    "lte = np.asarray(losses_test, dtype=np.float32)\n",
    "diff = ltr - lte\n",
    "plt.plot(degrees, abs(diff), label='diff')\n",
    "#plt.plot(degrees, losses_train, label='train')\n",
    "#plt.plot(degrees, losses_test, label='test')\n",
    "plt.legend()\n",
    "plt.xlabel('polynomial degree')\n",
    "plt.ylabel('loss')\n",
    "plt.ylim(0, 0.1)"
   ]
  },
  {
   "cell_type": "markdown",
   "metadata": {
    "user_expressions": []
   },
   "source": [
    "## Using sklearn\n",
    "Next we will explore the linear_regression using the machine learning module *sklearn* (see this website for more info: https://scikit-learn.org/stable/).\n",
    "\n",
    "To keep it simple you will perform two fits on the data set quality versus alcohol.\n",
    "- using the sklearn class `LinearRegression`. \n",
    "- using the sklearn class `Ridge` for regularised regression.\n",
    "\n",
    "In both cases use a poly degree of 8 and plot the results in one single plot together with the data. \n",
    "\n",
    "This part has already been made for you. Play with it and compare the results with previous solutions!"
   ]
  },
  {
   "cell_type": "code",
   "execution_count": null,
   "metadata": {
    "tags": [],
    "ExecuteTime": {
     "start_time": "2025-02-03T11:18:13.370105200Z"
    }
   },
   "outputs": [],
   "source": [
    "# import from the module the linear regression model\n",
    "from sklearn.linear_model import LinearRegression, Ridge"
   ]
  },
  {
   "cell_type": "code",
   "execution_count": null,
   "metadata": {
    "tags": [],
    "ExecuteTime": {
     "start_time": "2025-02-03T11:18:13.372112800Z"
    }
   },
   "outputs": [],
   "source": [
    "\n",
    "degree = 8\n",
    "\n",
    "# create instances of the regression and of the regularised regression model\n",
    "reg = LinearRegression(fit_intercept=False)  # we have the bias included in X, so no sepearte intercept is required.\n",
    "reg_ridge = Ridge(alpha=0.001, fit_intercept=False)\n",
    "\n",
    "# prepare the data train set\n",
    "X = polynomials(xdata_train, degree)\n",
    "y = ydata_train\n",
    "\n",
    "print(X.shape, y.shape)\n",
    "\n",
    "# train the model\n",
    "reg.fit(X, y)\n",
    "reg_ridge.fit(X, y)\n",
    "\n",
    "# Create a feature matrix X for the prediction\n",
    "NUM_SAMPLES = 100\n",
    "features = np.linspace(0, 15, num=NUM_SAMPLES)\n",
    "X_pred = polynomials(features, degree)\n",
    "\n",
    "# predict the corresponding labels\n",
    "y_pred = reg.predict(X_pred)\n",
    "y_pred_ridge = reg_ridge.predict(X_pred)\n",
    "\n",
    "# plot the predictions\n",
    "plt.plot(features, y_pred, label='not regularised')\n",
    "plt.plot(features, y_pred_ridge, label='regularised')\n",
    "\n",
    "# plot the original data \n",
    "plt.scatter(xdata_train, ydata_train, c='k', label='data')\n",
    "plt.legend()\n",
    "plt.ylim(0, 10)\n"
   ]
  },
  {
   "cell_type": "markdown",
   "metadata": {
    "tags": [],
    "user_expressions": []
   },
   "source": [
    "### __The 3EC students may stop here (if they want). The last bit is compulsory for the 5EC variant of the course!__"
   ]
  },
  {
   "cell_type": "markdown",
   "metadata": {
    "user_expressions": []
   },
   "source": [
    "## Construct a multivariable linear regression model\n",
    "\n",
    "Besides the feature alcohol, there are 10 other features in the database. Using the techniques that you have learned so far, construct a linear model which uses all features. You can build the models yourselfs with the linear algebra rules or use the library scikit-learn.\n"
   ]
  },
  {
   "cell_type": "code",
   "execution_count": null,
   "metadata": {
    "tags": [],
    "ExecuteTime": {
     "start_time": "2025-02-03T11:18:13.373120100Z"
    }
   },
   "outputs": [],
   "source": [
    "# Split the database in 20% test data and 80% train data (from the top, ie the first 20% of the samples are for testing only!)\n",
    "\n",
    "...\n",
    "\n",
    "# Build linear regession model\n",
    "\n",
    "\n",
    "# Make predictions on the test set\n",
    "\n",
    "# Calculate the root-mean-square error on test set:\n"
   ]
  },
  {
   "cell_type": "markdown",
   "metadata": {
    "user_expressions": []
   },
   "source": [
    "\n",
    "Can you determine which features are most important with respect to the quality of the wine?\n"
   ]
  },
  {
   "cell_type": "code",
   "execution_count": null,
   "metadata": {
    "ExecuteTime": {
     "start_time": "2025-02-03T11:18:13.376118900Z"
    }
   },
   "outputs": [],
   "source": []
  },
  {
   "cell_type": "markdown",
   "metadata": {
    "tags": [],
    "user_expressions": []
   },
   "source": [
    "## The end"
   ]
  },
  {
   "cell_type": "code",
   "execution_count": null,
   "outputs": [],
   "source": [],
   "metadata": {
    "collapsed": false
   }
  }
 ],
 "metadata": {
  "kernelspec": {
   "display_name": "Python 3 (ipykernel)",
   "language": "python",
   "name": "python3"
  },
  "language_info": {
   "codemirror_mode": {
    "name": "ipython",
    "version": 3
   },
   "file_extension": ".py",
   "mimetype": "text/x-python",
   "name": "python",
   "nbconvert_exporter": "python",
   "pygments_lexer": "ipython3",
   "version": "3.11.0"
  }
 },
 "nbformat": 4,
 "nbformat_minor": 4
}
